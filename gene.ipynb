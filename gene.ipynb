{
 "cells": [
  {
   "cell_type": "code",
   "execution_count": 1,
   "metadata": {},
   "outputs": [],
   "source": [
    "import squidpy as sq\n",
    "import os,sys\n",
    "import pandas as pd\n",
    "import scanpy as sc\n",
    "# sc.settings.verbosity = 0\n",
    "import anndata\n",
    "import numpy as np\n",
    "from scipy.sparse import csr_matrix\n",
    "import matplotlib.pylab as plt\n",
    "%matplotlib inline\n",
    "# %matplotlib notebook\n",
    "import seaborn as sns\n",
    "import warnings\n",
    "warnings.filterwarnings(\"ignore\")\n",
    "sc.settings.set_figure_params(dpi=80)"
   ]
  },
  {
   "cell_type": "code",
   "execution_count": 2,
   "metadata": {},
   "outputs": [],
   "source": [
    "# parameters\n",
    "indir=os.path.expanduser(\"~/scratch/VPT/20230810_cellpose1\")"
   ]
  },
  {
   "cell_type": "code",
   "execution_count": null,
   "metadata": {},
   "outputs": [],
   "source": [
    "# adata=sq.read.vizgen(path=\"output/region_0\",\n",
    "#                     counts_file=\"cell_by_gene.csv\",\n",
    "#                     meta_file=\"cell_metadata.csv\",\n",
    "#                     transformation_file=\"micron_to_mosaic_pixel_transform.csv\",\n",
    "#                     library_id=\"spatial\")\n",
    "# adata"
   ]
  },
  {
   "cell_type": "code",
   "execution_count": 3,
   "metadata": {},
   "outputs": [
    {
     "ename": "FileNotFoundError",
     "evalue": "[Errno 2] No such file or directory: '/Users/jzh/scratch/VPT/20230810_cellpose1/CellByGeneMatrix.csv'",
     "output_type": "error",
     "traceback": [
      "\u001b[0;31m---------------------------------------------------------------------------\u001b[0m",
      "\u001b[0;31mFileNotFoundError\u001b[0m                         Traceback (most recent call last)",
      "\u001b[1;32m/Users/jzh/Desktop/brainlearn/gene.ipynb Cell 4\u001b[0m line \u001b[0;36m3\n\u001b[1;32m      <a href='vscode-notebook-cell:/Users/jzh/Desktop/brainlearn/gene.ipynb#W3sZmlsZQ%3D%3D?line=0'>1</a>\u001b[0m library_id\u001b[39m=\u001b[39m\u001b[39m\"\u001b[39m\u001b[39m20230828_spatial\u001b[39m\u001b[39m\"\u001b[39m\n\u001b[0;32m----> <a href='vscode-notebook-cell:/Users/jzh/Desktop/brainlearn/gene.ipynb#W3sZmlsZQ%3D%3D?line=2'>3</a>\u001b[0m adata \u001b[39m=\u001b[39m anndata\u001b[39m.\u001b[39;49mread_text(os\u001b[39m.\u001b[39;49mpath\u001b[39m.\u001b[39;49mjoin(indir,\u001b[39m\"\u001b[39;49m\u001b[39mCellByGeneMatrix.csv\u001b[39;49m\u001b[39m\"\u001b[39;49m),delimiter\u001b[39m=\u001b[39;49m\u001b[39m\"\u001b[39;49m\u001b[39m,\u001b[39;49m\u001b[39m\"\u001b[39;49m, first_column_names\u001b[39m=\u001b[39;49m\u001b[39mTrue\u001b[39;49;00m)\n\u001b[1;32m      <a href='vscode-notebook-cell:/Users/jzh/Desktop/brainlearn/gene.ipynb#W3sZmlsZQ%3D%3D?line=3'>4</a>\u001b[0m cell_meta \u001b[39m=\u001b[39m pd\u001b[39m.\u001b[39mread_csv(os\u001b[39m.\u001b[39mpath\u001b[39m.\u001b[39mjoin(indir,\u001b[39m\"\u001b[39m\u001b[39mcell_metadata.csv\u001b[39m\u001b[39m\"\u001b[39m),index_col\u001b[39m=\u001b[39m\u001b[39m0\u001b[39m)\n\u001b[1;32m      <a href='vscode-notebook-cell:/Users/jzh/Desktop/brainlearn/gene.ipynb#W3sZmlsZQ%3D%3D?line=5'>6</a>\u001b[0m blank_genes \u001b[39m=\u001b[39m np\u001b[39m.\u001b[39marray([\u001b[39m\"\u001b[39m\u001b[39mBlank\u001b[39m\u001b[39m\"\u001b[39m \u001b[39min\u001b[39;00m v \u001b[39mfor\u001b[39;00m v \u001b[39min\u001b[39;00m adata\u001b[39m.\u001b[39mvar_names])\n",
      "File \u001b[0;32m~/miniconda3/envs/brain/lib/python3.11/site-packages/anndata/_io/read.py:359\u001b[0m, in \u001b[0;36mread_text\u001b[0;34m(filename, delimiter, first_column_names, dtype)\u001b[0m\n\u001b[1;32m    357\u001b[0m         \u001b[39mreturn\u001b[39;00m _read_text(f, delimiter, first_column_names, dtype)\n\u001b[1;32m    358\u001b[0m \u001b[39melse\u001b[39;00m:\n\u001b[0;32m--> 359\u001b[0m     \u001b[39mwith\u001b[39;00m filename\u001b[39m.\u001b[39;49mopen() \u001b[39mas\u001b[39;00m f:\n\u001b[1;32m    360\u001b[0m         \u001b[39mreturn\u001b[39;00m _read_text(f, delimiter, first_column_names, dtype)\n",
      "File \u001b[0;32m~/miniconda3/envs/brain/lib/python3.11/pathlib.py:1044\u001b[0m, in \u001b[0;36mPath.open\u001b[0;34m(self, mode, buffering, encoding, errors, newline)\u001b[0m\n\u001b[1;32m   1042\u001b[0m \u001b[39mif\u001b[39;00m \u001b[39m\"\u001b[39m\u001b[39mb\u001b[39m\u001b[39m\"\u001b[39m \u001b[39mnot\u001b[39;00m \u001b[39min\u001b[39;00m mode:\n\u001b[1;32m   1043\u001b[0m     encoding \u001b[39m=\u001b[39m io\u001b[39m.\u001b[39mtext_encoding(encoding)\n\u001b[0;32m-> 1044\u001b[0m \u001b[39mreturn\u001b[39;00m io\u001b[39m.\u001b[39mopen(\u001b[39mself\u001b[39m, mode, buffering, encoding, errors, newline)\n",
      "\u001b[0;31mFileNotFoundError\u001b[0m: [Errno 2] No such file or directory: '/Users/jzh/scratch/VPT/20230810_cellpose1/CellByGeneMatrix.csv'"
     ]
    }
   ],
   "source": [
    "library_id=\"20230828_spatial\"\n",
    "\n",
    "adata = anndata.read_text(os.path.join(indir,\"CellByGeneMatrix.csv\"),delimiter=\",\", first_column_names=True)\n",
    "cell_meta = pd.read_csv(os.path.join(indir,\"cell_metadata.csv\"),index_col=0)\n",
    "\n",
    "blank_genes = np.array([\"Blank\" in v for v in adata.var_names])\n",
    "adata.obsm[\"blank_genes\"] = pd.DataFrame(\n",
    "    adata[:, blank_genes].X.copy(), columns=adata.var_names[blank_genes], index=adata.obs_names\n",
    ")\n",
    "adata = adata[:, ~blank_genes].copy()\n",
    "\n",
    "adata.X = csr_matrix(adata.X)\n",
    "cell_meta.set_index(cell_meta.index.astype(\"str\"), inplace=True)\n",
    "\n",
    "adata.obs = pd.merge(adata.obs, cell_meta, how=\"left\", left_index=True, right_index=True)\n",
    "adata.obsm['spatial'] = adata.obs[[\"center_x\", \"center_y\"]].values\n",
    "adata.obs.drop(columns=[\"center_x\", \"center_y\"], inplace=True)"
   ]
  },
  {
   "cell_type": "code",
   "execution_count": null,
   "metadata": {},
   "outputs": [],
   "source": [
    "#transformation_file\n",
    "# matrix = pd.read_csv(\"output/region_0/images/micron_to_mosaic_pixel_transform.csv\", \n",
    "#                      sep=\" \", header=None)\n",
    "# # https://github.com/scverse/squidpy/issues/727\n",
    "# matrix.columns = matrix.columns.astype(str)\n",
    "# adata.uns['spatial']={}\n",
    "# adata.uns['spatial'][library_id]={}\n",
    "# adata.uns['spatial'][library_id][\"scalefactors\"] = {\"transformation_matrix\": matrix}\n",
    "adata"
   ]
  },
  {
   "cell_type": "code",
   "execution_count": null,
   "metadata": {},
   "outputs": [],
   "source": [
    "sc.pl.embedding(adata, basis=\"spatial\", projection=\"2d\")"
   ]
  }
 ],
 "metadata": {
  "kernelspec": {
   "display_name": "squid",
   "language": "python",
   "name": "python3"
  },
  "language_info": {
   "codemirror_mode": {
    "name": "ipython",
    "version": 3
   },
   "file_extension": ".py",
   "mimetype": "text/x-python",
   "name": "python",
   "nbconvert_exporter": "python",
   "pygments_lexer": "ipython3",
   "version": "3.11.5"
  }
 },
 "nbformat": 4,
 "nbformat_minor": 2
}
